{
 "cells": [
  {
   "cell_type": "code",
   "execution_count": 1,
   "id": "08e70397",
   "metadata": {},
   "outputs": [],
   "source": [
    "# Initial imports\n",
    "import pandas as pd\n",
    "from pathlib import Path\n",
    "from sklearn.preprocessing import StandardScaler\n",
    "from sklearn.decomposition import PCA\n",
    "from sklearn.cluster import KMeans\n",
    "from pathlib import Path\n",
    "import matplotlib.pyplot as plt"
   ]
  },
  {
   "cell_type": "code",
   "execution_count": 2,
   "id": "297d2fcd",
   "metadata": {},
   "outputs": [
    {
     "data": {
      "text/html": [
       "<div>\n",
       "<style scoped>\n",
       "    .dataframe tbody tr th:only-of-type {\n",
       "        vertical-align: middle;\n",
       "    }\n",
       "\n",
       "    .dataframe tbody tr th {\n",
       "        vertical-align: top;\n",
       "    }\n",
       "\n",
       "    .dataframe thead th {\n",
       "        text-align: right;\n",
       "    }\n",
       "</style>\n",
       "<table border=\"1\" class=\"dataframe\">\n",
       "  <thead>\n",
       "    <tr style=\"text-align: right;\">\n",
       "      <th></th>\n",
       "      <th>AGE</th>\n",
       "      <th>SPHEQ</th>\n",
       "      <th>AL</th>\n",
       "      <th>ACD</th>\n",
       "      <th>LT</th>\n",
       "      <th>VCD</th>\n",
       "      <th>SPORTHR</th>\n",
       "      <th>READHR</th>\n",
       "      <th>COMPHR</th>\n",
       "      <th>STUDYHR</th>\n",
       "      <th>TVHR</th>\n",
       "      <th>DIOPTERHR</th>\n",
       "      <th>MOMMY</th>\n",
       "      <th>DADMY</th>\n",
       "      <th>MYOPIC</th>\n",
       "    </tr>\n",
       "  </thead>\n",
       "  <tbody>\n",
       "    <tr>\n",
       "      <th>0</th>\n",
       "      <td>6</td>\n",
       "      <td>-0.052</td>\n",
       "      <td>21.889999</td>\n",
       "      <td>3.690</td>\n",
       "      <td>3.498</td>\n",
       "      <td>14.70</td>\n",
       "      <td>45</td>\n",
       "      <td>8</td>\n",
       "      <td>0</td>\n",
       "      <td>0</td>\n",
       "      <td>10</td>\n",
       "      <td>34</td>\n",
       "      <td>1</td>\n",
       "      <td>1</td>\n",
       "      <td>1</td>\n",
       "    </tr>\n",
       "    <tr>\n",
       "      <th>1</th>\n",
       "      <td>6</td>\n",
       "      <td>0.608</td>\n",
       "      <td>22.379999</td>\n",
       "      <td>3.702</td>\n",
       "      <td>3.392</td>\n",
       "      <td>15.29</td>\n",
       "      <td>4</td>\n",
       "      <td>0</td>\n",
       "      <td>1</td>\n",
       "      <td>1</td>\n",
       "      <td>7</td>\n",
       "      <td>12</td>\n",
       "      <td>1</td>\n",
       "      <td>1</td>\n",
       "      <td>0</td>\n",
       "    </tr>\n",
       "    <tr>\n",
       "      <th>2</th>\n",
       "      <td>6</td>\n",
       "      <td>1.179</td>\n",
       "      <td>22.490000</td>\n",
       "      <td>3.462</td>\n",
       "      <td>3.514</td>\n",
       "      <td>15.52</td>\n",
       "      <td>14</td>\n",
       "      <td>0</td>\n",
       "      <td>2</td>\n",
       "      <td>0</td>\n",
       "      <td>10</td>\n",
       "      <td>14</td>\n",
       "      <td>0</td>\n",
       "      <td>0</td>\n",
       "      <td>0</td>\n",
       "    </tr>\n",
       "    <tr>\n",
       "      <th>3</th>\n",
       "      <td>6</td>\n",
       "      <td>0.525</td>\n",
       "      <td>22.200001</td>\n",
       "      <td>3.862</td>\n",
       "      <td>3.612</td>\n",
       "      <td>14.73</td>\n",
       "      <td>18</td>\n",
       "      <td>11</td>\n",
       "      <td>0</td>\n",
       "      <td>0</td>\n",
       "      <td>4</td>\n",
       "      <td>37</td>\n",
       "      <td>0</td>\n",
       "      <td>1</td>\n",
       "      <td>1</td>\n",
       "    </tr>\n",
       "    <tr>\n",
       "      <th>4</th>\n",
       "      <td>5</td>\n",
       "      <td>0.697</td>\n",
       "      <td>23.290001</td>\n",
       "      <td>3.676</td>\n",
       "      <td>3.454</td>\n",
       "      <td>16.16</td>\n",
       "      <td>14</td>\n",
       "      <td>0</td>\n",
       "      <td>0</td>\n",
       "      <td>0</td>\n",
       "      <td>4</td>\n",
       "      <td>4</td>\n",
       "      <td>1</td>\n",
       "      <td>0</td>\n",
       "      <td>0</td>\n",
       "    </tr>\n",
       "    <tr>\n",
       "      <th>5</th>\n",
       "      <td>6</td>\n",
       "      <td>1.744</td>\n",
       "      <td>22.139999</td>\n",
       "      <td>3.224</td>\n",
       "      <td>3.556</td>\n",
       "      <td>15.36</td>\n",
       "      <td>10</td>\n",
       "      <td>6</td>\n",
       "      <td>2</td>\n",
       "      <td>1</td>\n",
       "      <td>19</td>\n",
       "      <td>44</td>\n",
       "      <td>0</td>\n",
       "      <td>1</td>\n",
       "      <td>0</td>\n",
       "    </tr>\n",
       "    <tr>\n",
       "      <th>6</th>\n",
       "      <td>6</td>\n",
       "      <td>0.683</td>\n",
       "      <td>22.330000</td>\n",
       "      <td>3.186</td>\n",
       "      <td>3.654</td>\n",
       "      <td>15.49</td>\n",
       "      <td>12</td>\n",
       "      <td>7</td>\n",
       "      <td>2</td>\n",
       "      <td>1</td>\n",
       "      <td>8</td>\n",
       "      <td>36</td>\n",
       "      <td>0</td>\n",
       "      <td>1</td>\n",
       "      <td>0</td>\n",
       "    </tr>\n",
       "    <tr>\n",
       "      <th>7</th>\n",
       "      <td>6</td>\n",
       "      <td>1.272</td>\n",
       "      <td>22.389999</td>\n",
       "      <td>3.732</td>\n",
       "      <td>3.584</td>\n",
       "      <td>15.08</td>\n",
       "      <td>12</td>\n",
       "      <td>0</td>\n",
       "      <td>0</td>\n",
       "      <td>0</td>\n",
       "      <td>8</td>\n",
       "      <td>8</td>\n",
       "      <td>0</td>\n",
       "      <td>0</td>\n",
       "      <td>0</td>\n",
       "    </tr>\n",
       "    <tr>\n",
       "      <th>8</th>\n",
       "      <td>7</td>\n",
       "      <td>1.396</td>\n",
       "      <td>22.620001</td>\n",
       "      <td>3.464</td>\n",
       "      <td>3.408</td>\n",
       "      <td>15.74</td>\n",
       "      <td>4</td>\n",
       "      <td>0</td>\n",
       "      <td>3</td>\n",
       "      <td>1</td>\n",
       "      <td>3</td>\n",
       "      <td>12</td>\n",
       "      <td>0</td>\n",
       "      <td>0</td>\n",
       "      <td>0</td>\n",
       "    </tr>\n",
       "    <tr>\n",
       "      <th>9</th>\n",
       "      <td>6</td>\n",
       "      <td>0.972</td>\n",
       "      <td>22.740000</td>\n",
       "      <td>3.504</td>\n",
       "      <td>3.696</td>\n",
       "      <td>15.54</td>\n",
       "      <td>30</td>\n",
       "      <td>5</td>\n",
       "      <td>1</td>\n",
       "      <td>0</td>\n",
       "      <td>10</td>\n",
       "      <td>27</td>\n",
       "      <td>0</td>\n",
       "      <td>0</td>\n",
       "      <td>0</td>\n",
       "    </tr>\n",
       "  </tbody>\n",
       "</table>\n",
       "</div>"
      ],
      "text/plain": [
       "   AGE  SPHEQ         AL    ACD     LT    VCD  SPORTHR  READHR  COMPHR  \\\n",
       "0    6 -0.052  21.889999  3.690  3.498  14.70       45       8       0   \n",
       "1    6  0.608  22.379999  3.702  3.392  15.29        4       0       1   \n",
       "2    6  1.179  22.490000  3.462  3.514  15.52       14       0       2   \n",
       "3    6  0.525  22.200001  3.862  3.612  14.73       18      11       0   \n",
       "4    5  0.697  23.290001  3.676  3.454  16.16       14       0       0   \n",
       "5    6  1.744  22.139999  3.224  3.556  15.36       10       6       2   \n",
       "6    6  0.683  22.330000  3.186  3.654  15.49       12       7       2   \n",
       "7    6  1.272  22.389999  3.732  3.584  15.08       12       0       0   \n",
       "8    7  1.396  22.620001  3.464  3.408  15.74        4       0       3   \n",
       "9    6  0.972  22.740000  3.504  3.696  15.54       30       5       1   \n",
       "\n",
       "   STUDYHR  TVHR  DIOPTERHR  MOMMY  DADMY  MYOPIC  \n",
       "0        0    10         34      1      1       1  \n",
       "1        1     7         12      1      1       0  \n",
       "2        0    10         14      0      0       0  \n",
       "3        0     4         37      0      1       1  \n",
       "4        0     4          4      1      0       0  \n",
       "5        1    19         44      0      1       0  \n",
       "6        1     8         36      0      1       0  \n",
       "7        0     8          8      0      0       0  \n",
       "8        1     3         12      0      0       0  \n",
       "9        0    10         27      0      0       0  "
      ]
     },
     "execution_count": 2,
     "metadata": {},
     "output_type": "execute_result"
    }
   ],
   "source": [
    "file_path = Path(\"myopia.csv\")\n",
    "df_myopia = pd.read_csv(file_path)\n",
    "df_myopia.head(10)"
   ]
  },
  {
   "cell_type": "code",
   "execution_count": 3,
   "id": "75afcffd",
   "metadata": {},
   "outputs": [
    {
     "data": {
      "text/plain": [
       "AGE            int64\n",
       "SPHEQ        float64\n",
       "AL           float64\n",
       "ACD          float64\n",
       "LT           float64\n",
       "VCD          float64\n",
       "SPORTHR        int64\n",
       "READHR         int64\n",
       "COMPHR         int64\n",
       "STUDYHR        int64\n",
       "TVHR           int64\n",
       "DIOPTERHR      int64\n",
       "MOMMY          int64\n",
       "DADMY          int64\n",
       "MYOPIC         int64\n",
       "dtype: object"
      ]
     },
     "execution_count": 3,
     "metadata": {},
     "output_type": "execute_result"
    }
   ],
   "source": [
    "df_myopia.dtypes"
   ]
  },
  {
   "cell_type": "code",
   "execution_count": 4,
   "id": "d47277d2",
   "metadata": {},
   "outputs": [
    {
     "data": {
      "text/plain": [
       "(618, 15)"
      ]
     },
     "execution_count": 4,
     "metadata": {},
     "output_type": "execute_result"
    }
   ],
   "source": [
    "df_myopia.shape"
   ]
  },
  {
   "cell_type": "code",
   "execution_count": 5,
   "id": "1b7cc02f",
   "metadata": {},
   "outputs": [
    {
     "name": "stdout",
     "output_type": "stream",
     "text": [
      "Column AGE has 0 null values\n",
      "Column SPHEQ has 0 null values\n",
      "Column AL has 0 null values\n",
      "Column ACD has 0 null values\n",
      "Column LT has 0 null values\n",
      "Column VCD has 0 null values\n",
      "Column SPORTHR has 0 null values\n",
      "Column READHR has 0 null values\n",
      "Column COMPHR has 0 null values\n",
      "Column STUDYHR has 0 null values\n",
      "Column TVHR has 0 null values\n",
      "Column DIOPTERHR has 0 null values\n",
      "Column MOMMY has 0 null values\n",
      "Column DADMY has 0 null values\n",
      "Column MYOPIC has 0 null values\n"
     ]
    }
   ],
   "source": [
    "# Find null values\n",
    "for column in df_myopia.columns:\n",
    "    print(f\"Column {column} has {df_myopia[column].isnull().sum()} null values\")"
   ]
  },
  {
   "cell_type": "code",
   "execution_count": 6,
   "id": "c0d428dd",
   "metadata": {},
   "outputs": [
    {
     "name": "stdout",
     "output_type": "stream",
     "text": [
      "Duplicate entries: 0\n"
     ]
    }
   ],
   "source": [
    "print(f\"Duplicate entries: {df_myopia.duplicated().sum()}\")"
   ]
  },
  {
   "cell_type": "code",
   "execution_count": 7,
   "id": "30238651",
   "metadata": {},
   "outputs": [],
   "source": [
    "# Standardise the data using StandardScaler\n",
    "scaler = StandardScaler()\n",
    "\n",
    "# Rename df\n",
    "myopia_scaled = scaler.fit_transform(df_myopia)"
   ]
  },
  {
   "cell_type": "code",
   "execution_count": 8,
   "id": "3576d311",
   "metadata": {},
   "outputs": [
    {
     "data": {
      "text/plain": [
       "array([-0.42021911, -1.3639169 , -0.89286146,  0.48378402, -0.28144315,\n",
       "       -1.0197916 ,  4.1506609 ,  1.69744958, -0.68931054, -0.67299591,\n",
       "        0.18405806,  0.49830393,  0.98713773,  1.0032415 ,  2.57480672])"
      ]
     },
     "execution_count": 8,
     "metadata": {},
     "output_type": "execute_result"
    }
   ],
   "source": [
    "myopia_scaled[0]"
   ]
  },
  {
   "cell_type": "code",
   "execution_count": 9,
   "id": "3f275528",
   "metadata": {},
   "outputs": [],
   "source": [
    "# Dimensionality reduction with PCA\n",
    "pca = PCA(n_components=.99)\n",
    "\n",
    "# Principal components\n",
    "# Direction in which the samples vary the most (displacement from the mean)\n",
    "pca_myopia_scaled = pca.fit_transform(myopia_scaled)"
   ]
  },
  {
   "cell_type": "code",
   "execution_count": 10,
   "id": "efe75343",
   "metadata": {},
   "outputs": [
    {
     "data": {
      "text/plain": [
       "(618, 13)"
      ]
     },
     "execution_count": 10,
     "metadata": {},
     "output_type": "execute_result"
    }
   ],
   "source": [
    "pca_myopia_scaled.shape"
   ]
  },
  {
   "cell_type": "code",
   "execution_count": 11,
   "id": "96af3f7f",
   "metadata": {},
   "outputs": [
    {
     "data": {
      "text/html": [
       "<div>\n",
       "<style scoped>\n",
       "    .dataframe tbody tr th:only-of-type {\n",
       "        vertical-align: middle;\n",
       "    }\n",
       "\n",
       "    .dataframe tbody tr th {\n",
       "        vertical-align: top;\n",
       "    }\n",
       "\n",
       "    .dataframe thead th {\n",
       "        text-align: right;\n",
       "    }\n",
       "</style>\n",
       "<table border=\"1\" class=\"dataframe\">\n",
       "  <thead>\n",
       "    <tr style=\"text-align: right;\">\n",
       "      <th></th>\n",
       "      <th>PC1</th>\n",
       "      <th>PC2</th>\n",
       "      <th>PC3</th>\n",
       "      <th>PC4</th>\n",
       "      <th>PC5</th>\n",
       "      <th>PC6</th>\n",
       "      <th>PC7</th>\n",
       "      <th>PC8</th>\n",
       "      <th>PC9</th>\n",
       "      <th>PC10</th>\n",
       "      <th>PC11</th>\n",
       "      <th>PC12</th>\n",
       "      <th>PC13</th>\n",
       "    </tr>\n",
       "  </thead>\n",
       "  <tbody>\n",
       "    <tr>\n",
       "      <th>0</th>\n",
       "      <td>0.782270</td>\n",
       "      <td>0.899383</td>\n",
       "      <td>-2.697392</td>\n",
       "      <td>0.533307</td>\n",
       "      <td>-3.138869</td>\n",
       "      <td>-1.514275</td>\n",
       "      <td>2.665827</td>\n",
       "      <td>-0.685834</td>\n",
       "      <td>1.259007</td>\n",
       "      <td>0.256176</td>\n",
       "      <td>1.837348</td>\n",
       "      <td>-0.574804</td>\n",
       "      <td>0.238210</td>\n",
       "    </tr>\n",
       "    <tr>\n",
       "      <th>1</th>\n",
       "      <td>-0.618300</td>\n",
       "      <td>-1.586214</td>\n",
       "      <td>-0.635506</td>\n",
       "      <td>-0.310405</td>\n",
       "      <td>0.562274</td>\n",
       "      <td>0.589375</td>\n",
       "      <td>0.675577</td>\n",
       "      <td>0.329263</td>\n",
       "      <td>-0.816743</td>\n",
       "      <td>0.683726</td>\n",
       "      <td>-0.386646</td>\n",
       "      <td>0.383693</td>\n",
       "      <td>-0.712662</td>\n",
       "    </tr>\n",
       "    <tr>\n",
       "      <th>2</th>\n",
       "      <td>-0.986590</td>\n",
       "      <td>-0.653197</td>\n",
       "      <td>1.410335</td>\n",
       "      <td>0.671055</td>\n",
       "      <td>-0.100877</td>\n",
       "      <td>0.014845</td>\n",
       "      <td>-0.535527</td>\n",
       "      <td>0.124015</td>\n",
       "      <td>0.826729</td>\n",
       "      <td>-0.091503</td>\n",
       "      <td>0.370604</td>\n",
       "      <td>0.122294</td>\n",
       "      <td>-0.009565</td>\n",
       "    </tr>\n",
       "    <tr>\n",
       "      <th>3</th>\n",
       "      <td>0.351714</td>\n",
       "      <td>0.943830</td>\n",
       "      <td>-2.517241</td>\n",
       "      <td>-1.389667</td>\n",
       "      <td>-2.240394</td>\n",
       "      <td>0.125941</td>\n",
       "      <td>0.395271</td>\n",
       "      <td>-1.507727</td>\n",
       "      <td>1.722338</td>\n",
       "      <td>0.097634</td>\n",
       "      <td>-0.416667</td>\n",
       "      <td>-0.394652</td>\n",
       "      <td>1.315970</td>\n",
       "    </tr>\n",
       "    <tr>\n",
       "      <th>4</th>\n",
       "      <td>-0.401488</td>\n",
       "      <td>-2.792502</td>\n",
       "      <td>0.639103</td>\n",
       "      <td>0.680018</td>\n",
       "      <td>0.235568</td>\n",
       "      <td>-0.868260</td>\n",
       "      <td>0.320928</td>\n",
       "      <td>-1.447538</td>\n",
       "      <td>-0.335757</td>\n",
       "      <td>-0.383506</td>\n",
       "      <td>0.317567</td>\n",
       "      <td>0.975003</td>\n",
       "      <td>-0.210381</td>\n",
       "    </tr>\n",
       "  </tbody>\n",
       "</table>\n",
       "</div>"
      ],
      "text/plain": [
       "        PC1       PC2       PC3       PC4       PC5       PC6       PC7  \\\n",
       "0  0.782270  0.899383 -2.697392  0.533307 -3.138869 -1.514275  2.665827   \n",
       "1 -0.618300 -1.586214 -0.635506 -0.310405  0.562274  0.589375  0.675577   \n",
       "2 -0.986590 -0.653197  1.410335  0.671055 -0.100877  0.014845 -0.535527   \n",
       "3  0.351714  0.943830 -2.517241 -1.389667 -2.240394  0.125941  0.395271   \n",
       "4 -0.401488 -2.792502  0.639103  0.680018  0.235568 -0.868260  0.320928   \n",
       "\n",
       "        PC8       PC9      PC10      PC11      PC12      PC13  \n",
       "0 -0.685834  1.259007  0.256176  1.837348 -0.574804  0.238210  \n",
       "1  0.329263 -0.816743  0.683726 -0.386646  0.383693 -0.712662  \n",
       "2  0.124015  0.826729 -0.091503  0.370604  0.122294 -0.009565  \n",
       "3 -1.507727  1.722338  0.097634 -0.416667 -0.394652  1.315970  \n",
       "4 -1.447538 -0.335757 -0.383506  0.317567  0.975003 -0.210381  "
      ]
     },
     "execution_count": 11,
     "metadata": {},
     "output_type": "execute_result"
    }
   ],
   "source": [
    "# Transform PCA data to a DataFrame\n",
    "df_pca_myopia_scaled = pd.DataFrame(\n",
    "    data=pca_myopia_scaled, columns=[\"PC1\", \"PC2\", \"PC3\", \"PC4\", \"PC5\", \"PC6\", \"PC7\",\"PC8\",\"PC9\", \"PC10\", \"PC11\", \"PC12\", \"PC13\"]\n",
    ")\n",
    "df_pca_myopia_scaled.head()"
   ]
  },
  {
   "cell_type": "code",
   "execution_count": 12,
   "id": "d7d2c1af",
   "metadata": {},
   "outputs": [
    {
     "data": {
      "text/plain": [
       "array([2.98520335, 2.20297892, 1.49520414, 1.18733689, 1.06676821,\n",
       "       0.98485727, 0.92729007, 0.89988202, 0.7988224 , 0.73821405,\n",
       "       0.67084851, 0.53896247, 0.52792746])"
      ]
     },
     "execution_count": 12,
     "metadata": {},
     "output_type": "execute_result"
    }
   ],
   "source": [
    "pca.explained_variance_"
   ]
  },
  {
   "cell_type": "code",
   "execution_count": 13,
   "id": "e4d2fe51",
   "metadata": {},
   "outputs": [
    {
     "data": {
      "text/plain": [
       "array([0.19869153, 0.14662762, 0.09951898, 0.07902771, 0.0710028 ,\n",
       "       0.06555091, 0.06171931, 0.05989506, 0.05316865, 0.04913464,\n",
       "       0.04465087, 0.03587269, 0.03513821])"
      ]
     },
     "execution_count": 13,
     "metadata": {},
     "output_type": "execute_result"
    }
   ],
   "source": [
    "pca.explained_variance_ratio_"
   ]
  },
  {
   "cell_type": "code",
   "execution_count": 14,
   "id": "f44354f0",
   "metadata": {},
   "outputs": [
    {
     "data": {
      "text/plain": [
       "0.9999989733262298"
      ]
     },
     "execution_count": 14,
     "metadata": {},
     "output_type": "execute_result"
    }
   ],
   "source": [
    "pca.explained_variance_ratio_.sum()"
   ]
  },
  {
   "cell_type": "markdown",
   "id": "ba81e99f",
   "metadata": {},
   "source": [
    "#### Perform dimensionality reduction with PCA. How did the number of the features change?\n",
    "\n",
    "##### The features were reduced by 2. There are 13 features with higher variance."
   ]
  },
  {
   "cell_type": "code",
   "execution_count": 15,
   "id": "9885a747",
   "metadata": {},
   "outputs": [
    {
     "name": "stderr",
     "output_type": "stream",
     "text": [
      "C:\\Users\\Owner\\anaconda3\\lib\\site-packages\\sklearn\\cluster\\_kmeans.py:1036: UserWarning: KMeans is known to have a memory leak on Windows with MKL, when there are less chunks than available threads. You can avoid it by setting the environment variable OMP_NUM_THREADS=3.\n",
      "  warnings.warn(\n"
     ]
    },
    {
     "data": {
      "text/html": [
       "<div>\n",
       "<style scoped>\n",
       "    .dataframe tbody tr th:only-of-type {\n",
       "        vertical-align: middle;\n",
       "    }\n",
       "\n",
       "    .dataframe tbody tr th {\n",
       "        vertical-align: top;\n",
       "    }\n",
       "\n",
       "    .dataframe thead th {\n",
       "        text-align: right;\n",
       "    }\n",
       "</style>\n",
       "<table border=\"1\" class=\"dataframe\">\n",
       "  <thead>\n",
       "    <tr style=\"text-align: right;\">\n",
       "      <th></th>\n",
       "      <th>k</th>\n",
       "      <th>inertia</th>\n",
       "    </tr>\n",
       "  </thead>\n",
       "  <tbody>\n",
       "    <tr>\n",
       "      <th>0</th>\n",
       "      <td>1</td>\n",
       "      <td>9269.990483</td>\n",
       "    </tr>\n",
       "    <tr>\n",
       "      <th>1</th>\n",
       "      <td>2</td>\n",
       "      <td>8111.395088</td>\n",
       "    </tr>\n",
       "    <tr>\n",
       "      <th>2</th>\n",
       "      <td>3</td>\n",
       "      <td>7342.677257</td>\n",
       "    </tr>\n",
       "    <tr>\n",
       "      <th>3</th>\n",
       "      <td>4</td>\n",
       "      <td>6820.910043</td>\n",
       "    </tr>\n",
       "    <tr>\n",
       "      <th>4</th>\n",
       "      <td>5</td>\n",
       "      <td>6498.271918</td>\n",
       "    </tr>\n",
       "  </tbody>\n",
       "</table>\n",
       "</div>"
      ],
      "text/plain": [
       "   k      inertia\n",
       "0  1  9269.990483\n",
       "1  2  8111.395088\n",
       "2  3  7342.677257\n",
       "3  4  6820.910043\n",
       "4  5  6498.271918"
      ]
     },
     "execution_count": 15,
     "metadata": {},
     "output_type": "execute_result"
    }
   ],
   "source": [
    "inertia = []\n",
    "k = list(range(1, 11))\n",
    "\n",
    "# Calculate the inertia for the range of k values\n",
    "for i in k:\n",
    "    km = KMeans(n_clusters=i, random_state=0)\n",
    "    km.fit(df_pca_myopia_scaled)\n",
    "    inertia.append(km.inertia_)\n",
    "\n",
    "# Create the Elbow Curve using hvPlot\n",
    "elbow_data = {\"k\": k, \"inertia\": inertia}\n",
    "df_elbow = pd.DataFrame(elbow_data)\n",
    "df_elbow.head()"
   ]
  },
  {
   "cell_type": "code",
   "execution_count": 16,
   "id": "e20e5781",
   "metadata": {},
   "outputs": [
    {
     "data": {
      "image/png": "[encoded data removed]",
      "text/plain": [
       "<Figure size 432x288 with 1 Axes>"
      ]
     },
     "metadata": {
      "needs_background": "light"
     },
     "output_type": "display_data"
    }
   ],
   "source": [
    "plt.plot(df_elbow['k'], df_elbow['inertia'])\n",
    "plt.xticks(range(1,11))\n",
    "plt.xlabel('Number of clusters')\n",
    "plt.ylabel('Inertia')\n",
    "plt.title('Elbow curve for myopia data')\n",
    "plt.show()"
   ]
  },
  {
   "cell_type": "markdown",
   "id": "10253ae8",
   "metadata": {},
   "source": [
    "##### Doesn't seem to be a distinct optimal number of clusters. It looks like it might be between 3 to 5."
   ]
  },
  {
   "cell_type": "code",
   "execution_count": 17,
   "id": "65871704",
   "metadata": {
    "scrolled": true
   },
   "outputs": [
    {
     "data": {
      "text/html": [
       "<div>\n",
       "<style scoped>\n",
       "    .dataframe tbody tr th:only-of-type {\n",
       "        vertical-align: middle;\n",
       "    }\n",
       "\n",
       "    .dataframe tbody tr th {\n",
       "        vertical-align: top;\n",
       "    }\n",
       "\n",
       "    .dataframe thead th {\n",
       "        text-align: right;\n",
       "    }\n",
       "</style>\n",
       "<table border=\"1\" class=\"dataframe\">\n",
       "  <thead>\n",
       "    <tr style=\"text-align: right;\">\n",
       "      <th></th>\n",
       "      <th>PC1</th>\n",
       "      <th>PC2</th>\n",
       "      <th>PC3</th>\n",
       "      <th>PC4</th>\n",
       "      <th>PC5</th>\n",
       "      <th>PC6</th>\n",
       "      <th>PC7</th>\n",
       "      <th>PC8</th>\n",
       "      <th>PC9</th>\n",
       "      <th>PC10</th>\n",
       "      <th>PC11</th>\n",
       "      <th>PC12</th>\n",
       "      <th>PC13</th>\n",
       "      <th>class</th>\n",
       "    </tr>\n",
       "  </thead>\n",
       "  <tbody>\n",
       "    <tr>\n",
       "      <th>0</th>\n",
       "      <td>0.782270</td>\n",
       "      <td>0.899383</td>\n",
       "      <td>-2.697392</td>\n",
       "      <td>0.533307</td>\n",
       "      <td>-3.138869</td>\n",
       "      <td>-1.514275</td>\n",
       "      <td>2.665827</td>\n",
       "      <td>-0.685834</td>\n",
       "      <td>1.259007</td>\n",
       "      <td>0.256176</td>\n",
       "      <td>1.837348</td>\n",
       "      <td>-0.574804</td>\n",
       "      <td>0.238210</td>\n",
       "      <td>0</td>\n",
       "    </tr>\n",
       "    <tr>\n",
       "      <th>1</th>\n",
       "      <td>-0.618300</td>\n",
       "      <td>-1.586214</td>\n",
       "      <td>-0.635506</td>\n",
       "      <td>-0.310405</td>\n",
       "      <td>0.562274</td>\n",
       "      <td>0.589375</td>\n",
       "      <td>0.675577</td>\n",
       "      <td>0.329263</td>\n",
       "      <td>-0.816743</td>\n",
       "      <td>0.683726</td>\n",
       "      <td>-0.386646</td>\n",
       "      <td>0.383693</td>\n",
       "      <td>-0.712662</td>\n",
       "      <td>1</td>\n",
       "    </tr>\n",
       "    <tr>\n",
       "      <th>2</th>\n",
       "      <td>-0.986590</td>\n",
       "      <td>-0.653197</td>\n",
       "      <td>1.410335</td>\n",
       "      <td>0.671055</td>\n",
       "      <td>-0.100877</td>\n",
       "      <td>0.014845</td>\n",
       "      <td>-0.535527</td>\n",
       "      <td>0.124015</td>\n",
       "      <td>0.826729</td>\n",
       "      <td>-0.091503</td>\n",
       "      <td>0.370604</td>\n",
       "      <td>0.122294</td>\n",
       "      <td>-0.009565</td>\n",
       "      <td>2</td>\n",
       "    </tr>\n",
       "    <tr>\n",
       "      <th>3</th>\n",
       "      <td>0.351714</td>\n",
       "      <td>0.943830</td>\n",
       "      <td>-2.517241</td>\n",
       "      <td>-1.389667</td>\n",
       "      <td>-2.240394</td>\n",
       "      <td>0.125941</td>\n",
       "      <td>0.395271</td>\n",
       "      <td>-1.507727</td>\n",
       "      <td>1.722338</td>\n",
       "      <td>0.097634</td>\n",
       "      <td>-0.416667</td>\n",
       "      <td>-0.394652</td>\n",
       "      <td>1.315970</td>\n",
       "      <td>0</td>\n",
       "    </tr>\n",
       "    <tr>\n",
       "      <th>4</th>\n",
       "      <td>-0.401488</td>\n",
       "      <td>-2.792502</td>\n",
       "      <td>0.639103</td>\n",
       "      <td>0.680018</td>\n",
       "      <td>0.235568</td>\n",
       "      <td>-0.868260</td>\n",
       "      <td>0.320928</td>\n",
       "      <td>-1.447538</td>\n",
       "      <td>-0.335757</td>\n",
       "      <td>-0.383506</td>\n",
       "      <td>0.317567</td>\n",
       "      <td>0.975003</td>\n",
       "      <td>-0.210381</td>\n",
       "      <td>1</td>\n",
       "    </tr>\n",
       "  </tbody>\n",
       "</table>\n",
       "</div>"
      ],
      "text/plain": [
       "        PC1       PC2       PC3       PC4       PC5       PC6       PC7  \\\n",
       "0  0.782270  0.899383 -2.697392  0.533307 -3.138869 -1.514275  2.665827   \n",
       "1 -0.618300 -1.586214 -0.635506 -0.310405  0.562274  0.589375  0.675577   \n",
       "2 -0.986590 -0.653197  1.410335  0.671055 -0.100877  0.014845 -0.535527   \n",
       "3  0.351714  0.943830 -2.517241 -1.389667 -2.240394  0.125941  0.395271   \n",
       "4 -0.401488 -2.792502  0.639103  0.680018  0.235568 -0.868260  0.320928   \n",
       "\n",
       "        PC8       PC9      PC10      PC11      PC12      PC13  class  \n",
       "0 -0.685834  1.259007  0.256176  1.837348 -0.574804  0.238210      0  \n",
       "1  0.329263 -0.816743  0.683726 -0.386646  0.383693 -0.712662      1  \n",
       "2  0.124015  0.826729 -0.091503  0.370604  0.122294 -0.009565      2  \n",
       "3 -1.507727  1.722338  0.097634 -0.416667 -0.394652  1.315970      0  \n",
       "4 -1.447538 -0.335757 -0.383506  0.317567  0.975003 -0.210381      1  "
      ]
     },
     "execution_count": 17,
     "metadata": {},
     "output_type": "execute_result"
    }
   ],
   "source": [
    "# k-means clustering with 3 clusters \n",
    "# Create k-means instance \n",
    "model_k = KMeans(n_clusters=3, random_state=5)\n",
    "\n",
    "# Fit \n",
    "model_k.fit(pca_myopia_scaled)\n",
    "\n",
    "# Cluster predictions\n",
    "predictions = model_k.predict(pca_myopia_scaled)\n",
    "\n",
    "# Add new class to elbow df \n",
    "df_pca_myopia_scaled[\"class\"] = model_k.labels_\n",
    "\n",
    "df_pca_myopia_scaled.head()"
   ]
  },
  {
   "cell_type": "code",
   "execution_count": 50,
   "id": "439136d9",
   "metadata": {},
   "outputs": [
    {
     "data": {
      "text/plain": [
       "<function matplotlib.pyplot.show(close=None, block=None)>"
      ]
     },
     "execution_count": 50,
     "metadata": {},
     "output_type": "execute_result"
    },
    {
     "data": {
      "image/png": "[encoded data removed]",
      "text/plain": [
       "<Figure size 432x288 with 1 Axes>"
      ]
     },
     "metadata": {
      "needs_background": "light"
     },
     "output_type": "display_data"
    }
   ],
   "source": [
    "plt.scatter(x=df_pca_myopia_scaled[\"PC1\"], \n",
    "            y=df_pca_myopia_scaled[\"PC2\"], \n",
    "            c=df_pca_myopia_scaled[\"class\"])\n",
    "plt.show"
   ]
  },
  {
   "cell_type": "code",
   "execution_count": 20,
   "id": "fd4163ec",
   "metadata": {},
   "outputs": [
    {
     "data": {
      "text/html": [
       "<div>\n",
       "<style scoped>\n",
       "    .dataframe tbody tr th:only-of-type {\n",
       "        vertical-align: middle;\n",
       "    }\n",
       "\n",
       "    .dataframe tbody tr th {\n",
       "        vertical-align: top;\n",
       "    }\n",
       "\n",
       "    .dataframe thead th {\n",
       "        text-align: right;\n",
       "    }\n",
       "</style>\n",
       "<table border=\"1\" class=\"dataframe\">\n",
       "  <thead>\n",
       "    <tr style=\"text-align: right;\">\n",
       "      <th></th>\n",
       "      <th>PC1</th>\n",
       "      <th>PC2</th>\n",
       "      <th>PC3</th>\n",
       "      <th>PC4</th>\n",
       "      <th>PC5</th>\n",
       "      <th>PC6</th>\n",
       "      <th>PC7</th>\n",
       "      <th>PC8</th>\n",
       "      <th>PC9</th>\n",
       "      <th>PC10</th>\n",
       "      <th>PC11</th>\n",
       "      <th>PC12</th>\n",
       "      <th>PC13</th>\n",
       "      <th>class</th>\n",
       "      <th>class4</th>\n",
       "    </tr>\n",
       "  </thead>\n",
       "  <tbody>\n",
       "    <tr>\n",
       "      <th>0</th>\n",
       "      <td>0.782270</td>\n",
       "      <td>0.899383</td>\n",
       "      <td>-2.697392</td>\n",
       "      <td>0.533307</td>\n",
       "      <td>-3.138869</td>\n",
       "      <td>-1.514275</td>\n",
       "      <td>2.665827</td>\n",
       "      <td>-0.685834</td>\n",
       "      <td>1.259007</td>\n",
       "      <td>0.256176</td>\n",
       "      <td>1.837348</td>\n",
       "      <td>-0.574804</td>\n",
       "      <td>0.238210</td>\n",
       "      <td>3</td>\n",
       "      <td>3</td>\n",
       "    </tr>\n",
       "    <tr>\n",
       "      <th>1</th>\n",
       "      <td>-0.618300</td>\n",
       "      <td>-1.586214</td>\n",
       "      <td>-0.635506</td>\n",
       "      <td>-0.310405</td>\n",
       "      <td>0.562274</td>\n",
       "      <td>0.589375</td>\n",
       "      <td>0.675577</td>\n",
       "      <td>0.329263</td>\n",
       "      <td>-0.816743</td>\n",
       "      <td>0.683726</td>\n",
       "      <td>-0.386646</td>\n",
       "      <td>0.383693</td>\n",
       "      <td>-0.712662</td>\n",
       "      <td>1</td>\n",
       "      <td>1</td>\n",
       "    </tr>\n",
       "    <tr>\n",
       "      <th>2</th>\n",
       "      <td>-0.986590</td>\n",
       "      <td>-0.653197</td>\n",
       "      <td>1.410335</td>\n",
       "      <td>0.671055</td>\n",
       "      <td>-0.100877</td>\n",
       "      <td>0.014845</td>\n",
       "      <td>-0.535527</td>\n",
       "      <td>0.124015</td>\n",
       "      <td>0.826729</td>\n",
       "      <td>-0.091503</td>\n",
       "      <td>0.370604</td>\n",
       "      <td>0.122294</td>\n",
       "      <td>-0.009565</td>\n",
       "      <td>2</td>\n",
       "      <td>2</td>\n",
       "    </tr>\n",
       "    <tr>\n",
       "      <th>3</th>\n",
       "      <td>0.351714</td>\n",
       "      <td>0.943830</td>\n",
       "      <td>-2.517241</td>\n",
       "      <td>-1.389667</td>\n",
       "      <td>-2.240394</td>\n",
       "      <td>0.125941</td>\n",
       "      <td>0.395271</td>\n",
       "      <td>-1.507727</td>\n",
       "      <td>1.722338</td>\n",
       "      <td>0.097634</td>\n",
       "      <td>-0.416667</td>\n",
       "      <td>-0.394652</td>\n",
       "      <td>1.315970</td>\n",
       "      <td>3</td>\n",
       "      <td>3</td>\n",
       "    </tr>\n",
       "    <tr>\n",
       "      <th>4</th>\n",
       "      <td>-0.401488</td>\n",
       "      <td>-2.792502</td>\n",
       "      <td>0.639103</td>\n",
       "      <td>0.680018</td>\n",
       "      <td>0.235568</td>\n",
       "      <td>-0.868260</td>\n",
       "      <td>0.320928</td>\n",
       "      <td>-1.447538</td>\n",
       "      <td>-0.335757</td>\n",
       "      <td>-0.383506</td>\n",
       "      <td>0.317567</td>\n",
       "      <td>0.975003</td>\n",
       "      <td>-0.210381</td>\n",
       "      <td>1</td>\n",
       "      <td>1</td>\n",
       "    </tr>\n",
       "  </tbody>\n",
       "</table>\n",
       "</div>"
      ],
      "text/plain": [
       "        PC1       PC2       PC3       PC4       PC5       PC6       PC7  \\\n",
       "0  0.782270  0.899383 -2.697392  0.533307 -3.138869 -1.514275  2.665827   \n",
       "1 -0.618300 -1.586214 -0.635506 -0.310405  0.562274  0.589375  0.675577   \n",
       "2 -0.986590 -0.653197  1.410335  0.671055 -0.100877  0.014845 -0.535527   \n",
       "3  0.351714  0.943830 -2.517241 -1.389667 -2.240394  0.125941  0.395271   \n",
       "4 -0.401488 -2.792502  0.639103  0.680018  0.235568 -0.868260  0.320928   \n",
       "\n",
       "        PC8       PC9      PC10      PC11      PC12      PC13  class  class4  \n",
       "0 -0.685834  1.259007  0.256176  1.837348 -0.574804  0.238210      3       3  \n",
       "1  0.329263 -0.816743  0.683726 -0.386646  0.383693 -0.712662      1       1  \n",
       "2  0.124015  0.826729 -0.091503  0.370604  0.122294 -0.009565      2       2  \n",
       "3 -1.507727  1.722338  0.097634 -0.416667 -0.394652  1.315970      3       3  \n",
       "4 -1.447538 -0.335757 -0.383506  0.317567  0.975003 -0.210381      1       1  "
      ]
     },
     "execution_count": 20,
     "metadata": {},
     "output_type": "execute_result"
    }
   ],
   "source": [
    "# k-means clustering with 4 clusters \n",
    "# Create k-means instance \n",
    "model_k4 = KMeans(n_clusters=4, random_state=5)\n",
    "\n",
    "# Fit \n",
    "model_k4.fit(pca_myopia_scaled)\n",
    "\n",
    "# Cluster predictions\n",
    "predictions = model_k4.predict(pca_myopia_scaled)\n",
    "\n",
    "# Add new class to elbow df \n",
    "df_pca_myopia_scaled[\"class4\"] = model_k4.labels_\n",
    "\n",
    "df_pca_myopia_scaled.head()"
   ]
  },
  {
   "cell_type": "code",
   "execution_count": 21,
   "id": "38141d76",
   "metadata": {},
   "outputs": [
    {
     "data": {
      "text/plain": [
       "<function matplotlib.pyplot.show(close=None, block=None)>"
      ]
     },
     "execution_count": 21,
     "metadata": {},
     "output_type": "execute_result"
    },
    {
     "data": {
      "image/png": "[encoded data removed]",
      "text/plain": [
       "<Figure size 432x288 with 1 Axes>"
      ]
     },
     "metadata": {
      "needs_background": "light"
     },
     "output_type": "display_data"
    }
   ],
   "source": [
    "plt.scatter(x=df_pca_myopia_scaled[\"PC1\"], \n",
    "            y=df_pca_myopia_scaled[\"PC2\"], \n",
    "            c=df_pca_myopia_scaled[\"class4\"])\n",
    "plt.show"
   ]
  },
  {
   "cell_type": "markdown",
   "id": "54666834",
   "metadata": {},
   "source": [
    "### Conclusion\n",
    "\n",
    "##### It seems that patients can be split into 3 distinct clusters. "
   ]
  },
  {
   "cell_type": "code",
   "execution_count": null,
   "id": "a7893524",
   "metadata": {},
   "outputs": [],
   "source": []
  }
 ],
 "metadata": {
  "kernelspec": {
   "display_name": "Python 3 (ipykernel)",
   "language": "python",
   "name": "python3"
  },
  "language_info": {
   "codemirror_mode": {
    "name": "ipython",
    "version": 3
   },
   "file_extension": ".py",
   "mimetype": "text/x-python",
   "name": "python",
   "nbconvert_exporter": "python",
   "pygments_lexer": "ipython3",
   "version": "3.9.12"
  }
 },
 "nbformat": 4,
 "nbformat_minor": 5
}
